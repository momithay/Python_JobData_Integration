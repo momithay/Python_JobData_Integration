{
 "cells": [
  {
   "cell_type": "markdown",
   "metadata": {},
   "source": [
    "## Task 3\n",
    "\n",
    "Version: 1.0\n",
    "\n",
    "Environment: Python 3 and Jupyter notebook\n",
    "\n",
    "Libraries used: please include the main libraries you used in your assignment, e.g.,:\n",
    "* pandas\n",
    "* re\n",
    "* numpy\n",
    "\n"
   ]
  },
  {
   "cell_type": "markdown",
   "metadata": {},
   "source": [
    "##  Import libraries "
   ]
  },
  {
   "cell_type": "code",
   "execution_count": 1,
   "metadata": {},
   "outputs": [],
   "source": [
    "# Code to import libraries as you need in this assessment\n",
    "import pandas as pd\n",
    "import numpy as np\n",
    "import re\n",
    "from IPython.display import display\n",
    "\n",
    "# Import visualisation tools\n",
    "import matplotlib as mpl\n",
    "import matplotlib.pyplot as plt\n",
    "import matplotlib.pylab as pylab\n",
    "import seaborn as sns\n",
    "\n",
    "# Configure visualisations\n",
    "%matplotlib inline\n",
    "mpl.style.use('ggplot')"
   ]
  },
  {
   "cell_type": "markdown",
   "metadata": {},
   "source": [
    "### 1. Examining and loading data\n",
    "Examine \"\\<student\\_id\\>_dataset2.csv\" the structure and schema. "
   ]
  },
  {
   "cell_type": "code",
   "execution_count": 2,
   "metadata": {},
   "outputs": [
    {
     "name": "stdout",
     "output_type": "stream",
     "text": [
      "D1:(48203, 11)\n"
     ]
    },
    {
     "data": {
      "text/html": [
       "<div>\n",
       "<style scoped>\n",
       "    .dataframe tbody tr th:only-of-type {\n",
       "        vertical-align: middle;\n",
       "    }\n",
       "\n",
       "    .dataframe tbody tr th {\n",
       "        vertical-align: top;\n",
       "    }\n",
       "\n",
       "    .dataframe thead th {\n",
       "        text-align: right;\n",
       "    }\n",
       "</style>\n",
       "<table border=\"1\" class=\"dataframe\">\n",
       "  <thead>\n",
       "    <tr style=\"text-align: right;\">\n",
       "      <th></th>\n",
       "      <th>Id</th>\n",
       "      <th>Title</th>\n",
       "      <th>Location</th>\n",
       "      <th>Company</th>\n",
       "      <th>ContractType</th>\n",
       "      <th>ContractTime</th>\n",
       "      <th>Category</th>\n",
       "      <th>Salary</th>\n",
       "      <th>OpenDate</th>\n",
       "      <th>CloseDate</th>\n",
       "      <th>SourceName</th>\n",
       "    </tr>\n",
       "  </thead>\n",
       "  <tbody>\n",
       "    <tr>\n",
       "      <th>0</th>\n",
       "      <td>69019015</td>\n",
       "      <td>Field Systems Engineer (Telephony, OO, Java, C...</td>\n",
       "      <td>Weybridge</td>\n",
       "      <td>Spectrum Recruitment</td>\n",
       "      <td>non-specified</td>\n",
       "      <td>permanent</td>\n",
       "      <td>IT Jobs</td>\n",
       "      <td>47500.0</td>\n",
       "      <td>2012-10-27 12:00:00</td>\n",
       "      <td>2013-01-25 12:00:00</td>\n",
       "      <td>cv-library.co.uk</td>\n",
       "    </tr>\n",
       "    <tr>\n",
       "      <th>1</th>\n",
       "      <td>69017444</td>\n",
       "      <td>Head of Architecture x **** (Please Read)</td>\n",
       "      <td>UK</td>\n",
       "      <td>Capita Resourcing</td>\n",
       "      <td>non-specified</td>\n",
       "      <td>permanent</td>\n",
       "      <td>IT Jobs</td>\n",
       "      <td>87500.0</td>\n",
       "      <td>2012-01-11 00:00:00</td>\n",
       "      <td>2012-03-11 00:00:00</td>\n",
       "      <td>cv-library.co.uk</td>\n",
       "    </tr>\n",
       "    <tr>\n",
       "      <th>2</th>\n",
       "      <td>70758181</td>\n",
       "      <td>Finance Administration</td>\n",
       "      <td>Doncaster</td>\n",
       "      <td>Blue Arrow</td>\n",
       "      <td>non-specified</td>\n",
       "      <td>permanent</td>\n",
       "      <td>Accounting &amp; Finance Jobs</td>\n",
       "      <td>13440.0</td>\n",
       "      <td>2012-09-08 00:00:00</td>\n",
       "      <td>2012-12-07 00:00:00</td>\n",
       "      <td>cv-library.co.uk</td>\n",
       "    </tr>\n",
       "    <tr>\n",
       "      <th>3</th>\n",
       "      <td>71631621</td>\n",
       "      <td>Project Engineer  Automated Handling</td>\n",
       "      <td>Bedfordshire</td>\n",
       "      <td>V Consultancy</td>\n",
       "      <td>non-specified</td>\n",
       "      <td>permanent</td>\n",
       "      <td>Engineering Jobs</td>\n",
       "      <td>37500.0</td>\n",
       "      <td>2013-09-17 15:00:00</td>\n",
       "      <td>2013-12-16 15:00:00</td>\n",
       "      <td>cv-library.co.uk</td>\n",
       "    </tr>\n",
       "    <tr>\n",
       "      <th>4</th>\n",
       "      <td>69010433</td>\n",
       "      <td>Water Treatment Sales/Accounts Manager  East M...</td>\n",
       "      <td>East Midlands</td>\n",
       "      <td>Future Select Recruitment</td>\n",
       "      <td>non-specified</td>\n",
       "      <td>permanent</td>\n",
       "      <td>Healthcare &amp; Nursing Jobs</td>\n",
       "      <td>50000.0</td>\n",
       "      <td>2012-05-28 15:00:00</td>\n",
       "      <td>2012-06-27 15:00:00</td>\n",
       "      <td>cv-library.co.uk</td>\n",
       "    </tr>\n",
       "  </tbody>\n",
       "</table>\n",
       "</div>"
      ],
      "text/plain": [
       "         Id                                              Title       Location  \\\n",
       "0  69019015  Field Systems Engineer (Telephony, OO, Java, C...      Weybridge   \n",
       "1  69017444          Head of Architecture x **** (Please Read)             UK   \n",
       "2  70758181                             Finance Administration      Doncaster   \n",
       "3  71631621               Project Engineer  Automated Handling   Bedfordshire   \n",
       "4  69010433  Water Treatment Sales/Accounts Manager  East M...  East Midlands   \n",
       "\n",
       "                     Company   ContractType ContractTime  \\\n",
       "0       Spectrum Recruitment  non-specified    permanent   \n",
       "1          Capita Resourcing  non-specified    permanent   \n",
       "2                 Blue Arrow  non-specified    permanent   \n",
       "3              V Consultancy  non-specified    permanent   \n",
       "4  Future Select Recruitment  non-specified    permanent   \n",
       "\n",
       "                    Category   Salary             OpenDate  \\\n",
       "0                    IT Jobs  47500.0  2012-10-27 12:00:00   \n",
       "1                    IT Jobs  87500.0  2012-01-11 00:00:00   \n",
       "2  Accounting & Finance Jobs  13440.0  2012-09-08 00:00:00   \n",
       "3           Engineering Jobs  37500.0  2013-09-17 15:00:00   \n",
       "4  Healthcare & Nursing Jobs  50000.0  2012-05-28 15:00:00   \n",
       "\n",
       "             CloseDate        SourceName  \n",
       "0  2013-01-25 12:00:00  cv-library.co.uk  \n",
       "1  2012-03-11 00:00:00  cv-library.co.uk  \n",
       "2  2012-12-07 00:00:00  cv-library.co.uk  \n",
       "3  2013-12-16 15:00:00  cv-library.co.uk  \n",
       "4  2012-06-27 15:00:00  cv-library.co.uk  "
      ]
     },
     "metadata": {},
     "output_type": "display_data"
    },
    {
     "name": "stdout",
     "output_type": "stream",
     "text": [
      "D2:(5000, 9)\n"
     ]
    },
    {
     "data": {
      "text/html": [
       "<div>\n",
       "<style scoped>\n",
       "    .dataframe tbody tr th:only-of-type {\n",
       "        vertical-align: middle;\n",
       "    }\n",
       "\n",
       "    .dataframe tbody tr th {\n",
       "        vertical-align: top;\n",
       "    }\n",
       "\n",
       "    .dataframe thead th {\n",
       "        text-align: right;\n",
       "    }\n",
       "</style>\n",
       "<table border=\"1\" class=\"dataframe\">\n",
       "  <thead>\n",
       "    <tr style=\"text-align: right;\">\n",
       "      <th></th>\n",
       "      <th>Job Title</th>\n",
       "      <th>Organisation</th>\n",
       "      <th>Monthly Payment</th>\n",
       "      <th>Contract Type</th>\n",
       "      <th>Category</th>\n",
       "      <th>Closing</th>\n",
       "      <th>Location</th>\n",
       "      <th>Full-Time Equivalent (FTE)</th>\n",
       "      <th>Opening</th>\n",
       "    </tr>\n",
       "  </thead>\n",
       "  <tbody>\n",
       "    <tr>\n",
       "      <th>0</th>\n",
       "      <td>Nursing Home Manager  Thames Ditton</td>\n",
       "      <td>Liquid Personnel Ltd</td>\n",
       "      <td>2750.00</td>\n",
       "      <td>NaN</td>\n",
       "      <td>Healthcare and Nursing</td>\n",
       "      <td>2013-02-22 15:00:00</td>\n",
       "      <td>Thames Ditton</td>\n",
       "      <td>FULL TIME</td>\n",
       "      <td>2012-12-24 15:00:00</td>\n",
       "    </tr>\n",
       "    <tr>\n",
       "      <th>1</th>\n",
       "      <td>Deputy Manager  Nursing Home  RGN  Shrewsbury</td>\n",
       "      <td>Liquid Personnel Ltd</td>\n",
       "      <td>2583.33</td>\n",
       "      <td>NaN</td>\n",
       "      <td>Healthcare and Nursing</td>\n",
       "      <td>2012-11-14 15:00:00</td>\n",
       "      <td>Shrewsbury</td>\n",
       "      <td>FULL TIME</td>\n",
       "      <td>2012-10-15 15:00:00</td>\n",
       "    </tr>\n",
       "    <tr>\n",
       "      <th>2</th>\n",
       "      <td>Deputy Manager  Nursing Home (RGN)  London</td>\n",
       "      <td>Liquid Personnel Ltd</td>\n",
       "      <td>3000.00</td>\n",
       "      <td>NaN</td>\n",
       "      <td>Healthcare and Nursing</td>\n",
       "      <td>2012-12-08 00:00:00</td>\n",
       "      <td>London</td>\n",
       "      <td>FULL TIME</td>\n",
       "      <td>2012-11-08 00:00:00</td>\n",
       "    </tr>\n",
       "    <tr>\n",
       "      <th>3</th>\n",
       "      <td>Deputy Manager (RGN)  Nursing Home  Bristol</td>\n",
       "      <td>Liquid Personnel Ltd</td>\n",
       "      <td>2791.67</td>\n",
       "      <td>NaN</td>\n",
       "      <td>Healthcare and Nursing</td>\n",
       "      <td>2013-01-13 15:00:00</td>\n",
       "      <td>Bristol</td>\n",
       "      <td>FULL TIME</td>\n",
       "      <td>2012-11-14 15:00:00</td>\n",
       "    </tr>\n",
       "    <tr>\n",
       "      <th>4</th>\n",
       "      <td>RGN or RMN  Wigan</td>\n",
       "      <td>Eden Brown</td>\n",
       "      <td>2240.00</td>\n",
       "      <td>NaN</td>\n",
       "      <td>Healthcare and Nursing</td>\n",
       "      <td>2013-01-24 15:00:00</td>\n",
       "      <td>Wigan</td>\n",
       "      <td>FULL TIME</td>\n",
       "      <td>2012-11-25 15:00:00</td>\n",
       "    </tr>\n",
       "  </tbody>\n",
       "</table>\n",
       "</div>"
      ],
      "text/plain": [
       "                                       Job Title          Organisation  \\\n",
       "0            Nursing Home Manager  Thames Ditton  Liquid Personnel Ltd   \n",
       "1  Deputy Manager  Nursing Home  RGN  Shrewsbury  Liquid Personnel Ltd   \n",
       "2     Deputy Manager  Nursing Home (RGN)  London  Liquid Personnel Ltd   \n",
       "3    Deputy Manager (RGN)  Nursing Home  Bristol  Liquid Personnel Ltd   \n",
       "4                              RGN or RMN  Wigan            Eden Brown   \n",
       "\n",
       "   Monthly Payment Contract Type                Category              Closing  \\\n",
       "0          2750.00           NaN  Healthcare and Nursing  2013-02-22 15:00:00   \n",
       "1          2583.33           NaN  Healthcare and Nursing  2012-11-14 15:00:00   \n",
       "2          3000.00           NaN  Healthcare and Nursing  2012-12-08 00:00:00   \n",
       "3          2791.67           NaN  Healthcare and Nursing  2013-01-13 15:00:00   \n",
       "4          2240.00           NaN  Healthcare and Nursing  2013-01-24 15:00:00   \n",
       "\n",
       "        Location Full-Time Equivalent (FTE)              Opening  \n",
       "0  Thames Ditton                  FULL TIME  2012-12-24 15:00:00  \n",
       "1     Shrewsbury                  FULL TIME  2012-10-15 15:00:00  \n",
       "2         London                  FULL TIME  2012-11-08 00:00:00  \n",
       "3        Bristol                  FULL TIME  2012-11-14 15:00:00  \n",
       "4          Wigan                  FULL TIME  2012-11-25 15:00:00  "
      ]
     },
     "metadata": {},
     "output_type": "display_data"
    }
   ],
   "source": [
    "df1 = pd.read_csv('dataset1_solution.csv')\n",
    "df2 = pd.read_csv('dataset2.csv')\n",
    "# Display two dataframes together to compare\n",
    "print('D1:' + str(df1.shape))\n",
    "display(df1.head())\n",
    "print('D2:' + str(df2.shape))\n",
    "display(df2.head())\n",
    "# Code to inspect the provided data file\n",
    "# Couple of notes for all code block in this notebook\n",
    "## please provide proper comment on your code\n",
    "## Please re-start and run all cells to make sure codes are runable and include your output in the submission"
   ]
  },
  {
   "cell_type": "code",
   "execution_count": 3,
   "metadata": {
    "scrolled": true
   },
   "outputs": [
    {
     "name": "stdout",
     "output_type": "stream",
     "text": [
      "<class 'pandas.core.frame.DataFrame'>\n",
      "RangeIndex: 48203 entries, 0 to 48202\n",
      "Data columns (total 11 columns):\n",
      " #   Column        Non-Null Count  Dtype  \n",
      "---  ------        --------------  -----  \n",
      " 0   Id            48203 non-null  int64  \n",
      " 1   Title         48203 non-null  object \n",
      " 2   Location      48203 non-null  object \n",
      " 3   Company       48203 non-null  object \n",
      " 4   ContractType  48203 non-null  object \n",
      " 5   ContractTime  48203 non-null  object \n",
      " 6   Category      48203 non-null  object \n",
      " 7   Salary        48203 non-null  float64\n",
      " 8   OpenDate      48203 non-null  object \n",
      " 9   CloseDate     48203 non-null  object \n",
      " 10  SourceName    48203 non-null  object \n",
      "dtypes: float64(1), int64(1), object(9)\n",
      "memory usage: 4.0+ MB\n",
      "None\n",
      "<class 'pandas.core.frame.DataFrame'>\n",
      "RangeIndex: 5000 entries, 0 to 4999\n",
      "Data columns (total 9 columns):\n",
      " #   Column                      Non-Null Count  Dtype  \n",
      "---  ------                      --------------  -----  \n",
      " 0   Job Title                   5000 non-null   object \n",
      " 1   Organisation                4937 non-null   object \n",
      " 2   Monthly Payment             5000 non-null   float64\n",
      " 3   Contract Type               4312 non-null   object \n",
      " 4   Category                    5000 non-null   object \n",
      " 5   Closing                     5000 non-null   object \n",
      " 6   Location                    5000 non-null   object \n",
      " 7   Full-Time Equivalent (FTE)  643 non-null    object \n",
      " 8   Opening                     5000 non-null   object \n",
      "dtypes: float64(1), object(8)\n",
      "memory usage: 351.7+ KB\n",
      "None\n"
     ]
    }
   ],
   "source": [
    "print (df1.info())\n",
    "print (df2.info())"
   ]
  },
  {
   "cell_type": "markdown",
   "metadata": {},
   "source": [
    "## 2.  Defining an Initial Global Schema\n",
    "\n",
    "There are many conflicts in the two schemas in D1 and S2, e.g., \n",
    "\n",
    "- D1 has `Title` seems to corresponds with `Job Title` in D2 but with different attribute names.\n",
    "- D1 has `Company` that seems to store the name of the companies and corresponds with `Organisation` in D2.\n",
    "- `Salary` in D1 holds payments annually and seems correspond to `Monthly Payment` in D2, where payments are monthly. The format of the domain value are different\n",
    "- In D1, `Salary` is of object/String type and in D2, `Monthly Payment` is already float type. \n",
    "- `Contract Type` in D2 seems correspond to `ContractTime` in D1, though, the one of domain values are different. In D2, `Contract Type` contains 'Permanent' and 'Fixed Term Contract' attributes which interpret 'permanent' and 'contract'in `ContractTime` respectively from D1.\n",
    "- `Full-Time Equivalent (FTE)` in D2 seems correspond to `ContractType` in D1, though, the one of domain values are different. In D2, `Full-Time Equivalent (FTE)` contains the attributes `FULL TIME` and `0.2,0.4,0.6,0.8 FTE` attributes which interpret `full_time` and `part_time` in `ContractType` respectively from D1.\n",
    "- D2 has `Opening` corresponding with `OpenDate` in D1, and D2 has `Closing` corresponding with `CloseDate` in D1, although different column names. \n",
    "\n",
    "In this activity, let's assume we initially are working towards the following schema of the data:\n",
    "\n",
    "\n",
    "- `Id`- 8 digit Id of the job advertisement\n",
    "- `Title` - Title of the advertised job position\n",
    "- `Location` - Location of the advertised job position\n",
    "- `Company` - Company (employer) of the advertised job position\n",
    "- `ContractType` - The contract type of the advertised job position\n",
    "- `ContractTime` - The contract time of the advertised job position\n",
    "- `Category` - The category of the advertised job position\n",
    "- `Salary` - Annual salary of the advertised job position\n",
    "- `OpenDate`- The opening time for the job application\n",
    "- `CloseDate` - The closing time for applying for the advertised job position\n",
    "- `SourceName` - The website where the job position is advertised"
   ]
  },
  {
   "cell_type": "code",
   "execution_count": 4,
   "metadata": {},
   "outputs": [
    {
     "data": {
      "text/plain": [
       "Job Title                        0\n",
       "Organisation                    63\n",
       "Monthly Payment                  0\n",
       "Contract Type                  688\n",
       "Category                         0\n",
       "Closing                          0\n",
       "Location                         0\n",
       "Full-Time Equivalent (FTE)    4357\n",
       "Opening                          0\n",
       "dtype: int64"
      ]
     },
     "execution_count": 4,
     "metadata": {},
     "output_type": "execute_result"
    }
   ],
   "source": [
    "df2.isnull().sum()"
   ]
  },
  {
   "cell_type": "markdown",
   "metadata": {},
   "source": [
    "### 2. Resolving schema conflicts\n",
    "Give some general information about the conflicts you found in two schemas and steps you taken to resolve them.\n",
    "\n",
    "<span style=\"color: red\"> You might have complex notebook structure in this section, please feel free to create your own notebook structure. </span>"
   ]
  },
  {
   "cell_type": "markdown",
   "metadata": {},
   "source": [
    "#### Conflict 1: Naming Conflicts in Column Job Title and Title"
   ]
  },
  {
   "cell_type": "markdown",
   "metadata": {},
   "source": [
    "As **Job Title** column and **Title** are synonyms and contain the same data as in dataset1.\n",
    "- Just replacing **Job Title** column to **Title** will resolve conflict."
   ]
  },
  {
   "cell_type": "code",
   "execution_count": 5,
   "metadata": {},
   "outputs": [],
   "source": [
    "df2.rename(columns={'Job Title': 'Title'},inplace=True)"
   ]
  },
  {
   "cell_type": "markdown",
   "metadata": {},
   "source": [
    "#### Conflict 2: Naming Conflicts in Column Organisation and Company"
   ]
  },
  {
   "cell_type": "markdown",
   "metadata": {},
   "source": [
    "As Organisation column and Company are synonyms and contain the same data as in D1.\n",
    "- First converted the data type to **String** and search for missing values. They are **63** missing values.\n",
    "- Then, replaced all 63 `nan` values to `non-specified`.\n",
    "- Double-Checked for null values, as it's 0.\n",
    "- Changed the column to `Company` to resolve conflict."
   ]
  },
  {
   "cell_type": "code",
   "execution_count": 6,
   "metadata": {},
   "outputs": [
    {
     "data": {
      "text/plain": [
       "UKStaffsearch                     72\n",
       "Flame Health Associates LLP       42\n",
       "CHERRY RED RECRUITMENT            39\n",
       "Jobsite Jobs                      37\n",
       "Penguin Recruitment               35\n",
       "                                  ..\n",
       "THC  Ltd                           1\n",
       "Socialeyz                          1\n",
       "Attain Recruitment                 1\n",
       "Aaron Wallis Sales Recruitment     1\n",
       "Chiltern Park Recruitment          1\n",
       "Name: Organisation, Length: 2205, dtype: int64"
      ]
     },
     "execution_count": 6,
     "metadata": {},
     "output_type": "execute_result"
    }
   ],
   "source": [
    "df2['Organisation'].value_counts()"
   ]
  },
  {
   "cell_type": "code",
   "execution_count": 7,
   "metadata": {
    "scrolled": true
   },
   "outputs": [
    {
     "data": {
      "text/plain": [
       "['UKStaffsearch']                         72\n",
       "['nan']                                   63\n",
       "['Flame Health Associates LLP']           42\n",
       "['CHERRY RED RECRUITMENT']                39\n",
       "['Jobsite Jobs']                          37\n",
       "                                          ..\n",
       "['Leeds Building Society']                 1\n",
       "['Cornwallis Elt Ltd']                     1\n",
       "['BROOK STREET BUREAU   Glasgow City']     1\n",
       "['GrassGreener Group']                     1\n",
       "['Real Recruitment Ltd']                   1\n",
       "Name: Organisation, Length: 2206, dtype: int64"
      ]
     },
     "execution_count": 7,
     "metadata": {},
     "output_type": "execute_result"
    }
   ],
   "source": [
    "df2['Organisation'] = df2['Organisation'].astype(str)\n",
    "Org = df2['Organisation'].apply(lambda x: re.findall(r'\\D+', x))\n",
    "Org.astype('str').value_counts()"
   ]
  },
  {
   "cell_type": "code",
   "execution_count": 8,
   "metadata": {
    "scrolled": false
   },
   "outputs": [],
   "source": [
    "df2['Organisation'] = df2['Organisation'].replace('nan','non-specified')"
   ]
  },
  {
   "cell_type": "code",
   "execution_count": 9,
   "metadata": {},
   "outputs": [
    {
     "data": {
      "text/plain": [
       "Title                            0\n",
       "Organisation                     0\n",
       "Monthly Payment                  0\n",
       "Contract Type                  688\n",
       "Category                         0\n",
       "Closing                          0\n",
       "Location                         0\n",
       "Full-Time Equivalent (FTE)    4357\n",
       "Opening                          0\n",
       "dtype: int64"
      ]
     },
     "execution_count": 9,
     "metadata": {},
     "output_type": "execute_result"
    }
   ],
   "source": [
    "df2.isnull().sum()"
   ]
  },
  {
   "cell_type": "code",
   "execution_count": 10,
   "metadata": {},
   "outputs": [
    {
     "data": {
      "text/plain": [
       "UKStaffsearch                     72\n",
       "non-specified                     63\n",
       "Flame Health Associates LLP       42\n",
       "CHERRY RED RECRUITMENT            39\n",
       "Jobsite Jobs                      37\n",
       "                                  ..\n",
       "THC  Ltd                           1\n",
       "Socialeyz                          1\n",
       "Attain Recruitment                 1\n",
       "Aaron Wallis Sales Recruitment     1\n",
       "Chiltern Park Recruitment          1\n",
       "Name: Organisation, Length: 2206, dtype: int64"
      ]
     },
     "execution_count": 10,
     "metadata": {},
     "output_type": "execute_result"
    }
   ],
   "source": [
    "df2['Organisation'].value_counts()"
   ]
  },
  {
   "cell_type": "code",
   "execution_count": 11,
   "metadata": {},
   "outputs": [],
   "source": [
    "df2.rename(columns={'Organisation': 'Company'},inplace=True)"
   ]
  },
  {
   "cell_type": "markdown",
   "metadata": {},
   "source": [
    "#### Conflict 3: Naming Conflict/ Attribute level Redundancy in Montly Payment and Salary"
   ]
  },
  {
   "cell_type": "markdown",
   "metadata": {},
   "source": [
    "Combining different **Monthly Payment and Salary** from D1 might result in a redundant representation of the same attribute. No missing values in the column.\n",
    "- First computed the monthly payment to annual salary by multiplying it by 12.\n",
    "- Changed the column  to **Monthly Payment to Salary** to resolve conflict."
   ]
  },
  {
   "cell_type": "code",
   "execution_count": 12,
   "metadata": {},
   "outputs": [
    {
     "data": {
      "text/html": [
       "<div>\n",
       "<style scoped>\n",
       "    .dataframe tbody tr th:only-of-type {\n",
       "        vertical-align: middle;\n",
       "    }\n",
       "\n",
       "    .dataframe tbody tr th {\n",
       "        vertical-align: top;\n",
       "    }\n",
       "\n",
       "    .dataframe thead th {\n",
       "        text-align: right;\n",
       "    }\n",
       "</style>\n",
       "<table border=\"1\" class=\"dataframe\">\n",
       "  <thead>\n",
       "    <tr style=\"text-align: right;\">\n",
       "      <th></th>\n",
       "      <th>Title</th>\n",
       "      <th>Company</th>\n",
       "      <th>Monthly Payment</th>\n",
       "      <th>Contract Type</th>\n",
       "      <th>Category</th>\n",
       "      <th>Closing</th>\n",
       "      <th>Location</th>\n",
       "      <th>Full-Time Equivalent (FTE)</th>\n",
       "      <th>Opening</th>\n",
       "    </tr>\n",
       "  </thead>\n",
       "  <tbody>\n",
       "    <tr>\n",
       "      <th>0</th>\n",
       "      <td>Nursing Home Manager  Thames Ditton</td>\n",
       "      <td>Liquid Personnel Ltd</td>\n",
       "      <td>33000.00</td>\n",
       "      <td>NaN</td>\n",
       "      <td>Healthcare and Nursing</td>\n",
       "      <td>2013-02-22 15:00:00</td>\n",
       "      <td>Thames Ditton</td>\n",
       "      <td>FULL TIME</td>\n",
       "      <td>2012-12-24 15:00:00</td>\n",
       "    </tr>\n",
       "    <tr>\n",
       "      <th>1</th>\n",
       "      <td>Deputy Manager  Nursing Home  RGN  Shrewsbury</td>\n",
       "      <td>Liquid Personnel Ltd</td>\n",
       "      <td>30999.96</td>\n",
       "      <td>NaN</td>\n",
       "      <td>Healthcare and Nursing</td>\n",
       "      <td>2012-11-14 15:00:00</td>\n",
       "      <td>Shrewsbury</td>\n",
       "      <td>FULL TIME</td>\n",
       "      <td>2012-10-15 15:00:00</td>\n",
       "    </tr>\n",
       "    <tr>\n",
       "      <th>2</th>\n",
       "      <td>Deputy Manager  Nursing Home (RGN)  London</td>\n",
       "      <td>Liquid Personnel Ltd</td>\n",
       "      <td>36000.00</td>\n",
       "      <td>NaN</td>\n",
       "      <td>Healthcare and Nursing</td>\n",
       "      <td>2012-12-08 00:00:00</td>\n",
       "      <td>London</td>\n",
       "      <td>FULL TIME</td>\n",
       "      <td>2012-11-08 00:00:00</td>\n",
       "    </tr>\n",
       "    <tr>\n",
       "      <th>3</th>\n",
       "      <td>Deputy Manager (RGN)  Nursing Home  Bristol</td>\n",
       "      <td>Liquid Personnel Ltd</td>\n",
       "      <td>33500.04</td>\n",
       "      <td>NaN</td>\n",
       "      <td>Healthcare and Nursing</td>\n",
       "      <td>2013-01-13 15:00:00</td>\n",
       "      <td>Bristol</td>\n",
       "      <td>FULL TIME</td>\n",
       "      <td>2012-11-14 15:00:00</td>\n",
       "    </tr>\n",
       "    <tr>\n",
       "      <th>4</th>\n",
       "      <td>RGN or RMN  Wigan</td>\n",
       "      <td>Eden Brown</td>\n",
       "      <td>26880.00</td>\n",
       "      <td>NaN</td>\n",
       "      <td>Healthcare and Nursing</td>\n",
       "      <td>2013-01-24 15:00:00</td>\n",
       "      <td>Wigan</td>\n",
       "      <td>FULL TIME</td>\n",
       "      <td>2012-11-25 15:00:00</td>\n",
       "    </tr>\n",
       "    <tr>\n",
       "      <th>...</th>\n",
       "      <td>...</td>\n",
       "      <td>...</td>\n",
       "      <td>...</td>\n",
       "      <td>...</td>\n",
       "      <td>...</td>\n",
       "      <td>...</td>\n",
       "      <td>...</td>\n",
       "      <td>...</td>\n",
       "      <td>...</td>\n",
       "    </tr>\n",
       "    <tr>\n",
       "      <th>4995</th>\n",
       "      <td>Pharmaceutical  Analytical Chemist Jobs in Nor...</td>\n",
       "      <td>Flame Pharma</td>\n",
       "      <td>23000.04</td>\n",
       "      <td>Permanent</td>\n",
       "      <td>Healthcare and Nursing</td>\n",
       "      <td>2013-10-24 15:00:00</td>\n",
       "      <td>Northern Ireland</td>\n",
       "      <td>NaN</td>\n",
       "      <td>2013-09-24 15:00:00</td>\n",
       "    </tr>\n",
       "    <tr>\n",
       "      <th>4996</th>\n",
       "      <td>Medical Sales Representative  South East Essex</td>\n",
       "      <td>The Vacancy Management Company</td>\n",
       "      <td>22500.00</td>\n",
       "      <td>Fixed Term Contract</td>\n",
       "      <td>Healthcare and Nursing</td>\n",
       "      <td>2012-06-20 12:00:00</td>\n",
       "      <td>UK</td>\n",
       "      <td>NaN</td>\n",
       "      <td>2012-05-21 12:00:00</td>\n",
       "    </tr>\n",
       "    <tr>\n",
       "      <th>4997</th>\n",
       "      <td>SENIOR PROJECT MANAGER  EVENT &amp; EXHIBITION AGENCY</td>\n",
       "      <td>Live Recruitment</td>\n",
       "      <td>32499.96</td>\n",
       "      <td>Permanent</td>\n",
       "      <td>PR, Advertising and Marketing</td>\n",
       "      <td>2013-12-17 15:00:00</td>\n",
       "      <td>Hertfordshire</td>\n",
       "      <td>FULL TIME</td>\n",
       "      <td>2013-11-17 15:00:00</td>\n",
       "    </tr>\n",
       "    <tr>\n",
       "      <th>4998</th>\n",
       "      <td>Curriculum Leader  Mathematics</td>\n",
       "      <td>non-specified</td>\n",
       "      <td>5006.04</td>\n",
       "      <td>Permanent</td>\n",
       "      <td>Teaching</td>\n",
       "      <td>2012-03-15 12:00:00</td>\n",
       "      <td>Wrexham</td>\n",
       "      <td>NaN</td>\n",
       "      <td>2012-01-15 12:00:00</td>\n",
       "    </tr>\n",
       "    <tr>\n",
       "      <th>4999</th>\n",
       "      <td>TEACHER OF BUSINESS STUDIES AND LAW</td>\n",
       "      <td>non-specified</td>\n",
       "      <td>22800.00</td>\n",
       "      <td>Fixed Term Contract</td>\n",
       "      <td>Teaching</td>\n",
       "      <td>2013-05-11 15:00:00</td>\n",
       "      <td>Salisbury</td>\n",
       "      <td>NaN</td>\n",
       "      <td>2013-04-27 15:00:00</td>\n",
       "    </tr>\n",
       "  </tbody>\n",
       "</table>\n",
       "<p>5000 rows × 9 columns</p>\n",
       "</div>"
      ],
      "text/plain": [
       "                                                  Title  \\\n",
       "0                   Nursing Home Manager  Thames Ditton   \n",
       "1         Deputy Manager  Nursing Home  RGN  Shrewsbury   \n",
       "2            Deputy Manager  Nursing Home (RGN)  London   \n",
       "3           Deputy Manager (RGN)  Nursing Home  Bristol   \n",
       "4                                     RGN or RMN  Wigan   \n",
       "...                                                 ...   \n",
       "4995  Pharmaceutical  Analytical Chemist Jobs in Nor...   \n",
       "4996     Medical Sales Representative  South East Essex   \n",
       "4997  SENIOR PROJECT MANAGER  EVENT & EXHIBITION AGENCY   \n",
       "4998                     Curriculum Leader  Mathematics   \n",
       "4999                TEACHER OF BUSINESS STUDIES AND LAW   \n",
       "\n",
       "                             Company  Monthly Payment        Contract Type  \\\n",
       "0               Liquid Personnel Ltd         33000.00                  NaN   \n",
       "1               Liquid Personnel Ltd         30999.96                  NaN   \n",
       "2               Liquid Personnel Ltd         36000.00                  NaN   \n",
       "3               Liquid Personnel Ltd         33500.04                  NaN   \n",
       "4                         Eden Brown         26880.00                  NaN   \n",
       "...                              ...              ...                  ...   \n",
       "4995                    Flame Pharma         23000.04            Permanent   \n",
       "4996  The Vacancy Management Company         22500.00  Fixed Term Contract   \n",
       "4997                Live Recruitment         32499.96            Permanent   \n",
       "4998                   non-specified          5006.04            Permanent   \n",
       "4999                   non-specified         22800.00  Fixed Term Contract   \n",
       "\n",
       "                           Category              Closing          Location  \\\n",
       "0            Healthcare and Nursing  2013-02-22 15:00:00     Thames Ditton   \n",
       "1            Healthcare and Nursing  2012-11-14 15:00:00        Shrewsbury   \n",
       "2            Healthcare and Nursing  2012-12-08 00:00:00            London   \n",
       "3            Healthcare and Nursing  2013-01-13 15:00:00           Bristol   \n",
       "4            Healthcare and Nursing  2013-01-24 15:00:00             Wigan   \n",
       "...                             ...                  ...               ...   \n",
       "4995         Healthcare and Nursing  2013-10-24 15:00:00  Northern Ireland   \n",
       "4996         Healthcare and Nursing  2012-06-20 12:00:00                UK   \n",
       "4997  PR, Advertising and Marketing  2013-12-17 15:00:00     Hertfordshire   \n",
       "4998                       Teaching  2012-03-15 12:00:00           Wrexham   \n",
       "4999                       Teaching  2013-05-11 15:00:00         Salisbury   \n",
       "\n",
       "     Full-Time Equivalent (FTE)              Opening  \n",
       "0                     FULL TIME  2012-12-24 15:00:00  \n",
       "1                     FULL TIME  2012-10-15 15:00:00  \n",
       "2                     FULL TIME  2012-11-08 00:00:00  \n",
       "3                     FULL TIME  2012-11-14 15:00:00  \n",
       "4                     FULL TIME  2012-11-25 15:00:00  \n",
       "...                         ...                  ...  \n",
       "4995                        NaN  2013-09-24 15:00:00  \n",
       "4996                        NaN  2012-05-21 12:00:00  \n",
       "4997                  FULL TIME  2013-11-17 15:00:00  \n",
       "4998                        NaN  2012-01-15 12:00:00  \n",
       "4999                        NaN  2013-04-27 15:00:00  \n",
       "\n",
       "[5000 rows x 9 columns]"
      ]
     },
     "execution_count": 12,
     "metadata": {},
     "output_type": "execute_result"
    }
   ],
   "source": [
    "df2['Monthly Payment'] = df2['Monthly Payment'].apply(lambda x: x*12)\n",
    "df2"
   ]
  },
  {
   "cell_type": "code",
   "execution_count": 13,
   "metadata": {},
   "outputs": [],
   "source": [
    "df2.rename(columns={'Monthly Payment': 'Salary'},inplace=True)"
   ]
  },
  {
   "cell_type": "markdown",
   "metadata": {},
   "source": [
    "#### Conflict 4: Naming Conflict/ Entity Resolution in Contract Type and ContractTime"
   ]
  },
  {
   "cell_type": "markdown",
   "metadata": {},
   "source": [
    "**Contract Type** from D2 contains 'Permanent' and 'Fixed Term Contract' attributes which interpret 'permanent' and 'contract'in **ContractTime** respectively from D1. This is a homonymn case.\n",
    "- First Checked for missing values, there appears to be **688** missing vales.\n",
    "- Changed the `Contract Type` column  to a String data type\n",
    "- Changed missing values to `non-specified` using replace func\n",
    "- Changed Attribute names `Fixed Term Contract` to `contract`\n",
    "- Converted the column `Contract Type` to lower case to change the casing of `Permanent` to `permanent`\n",
    "- Did value_counts to validate the change\n",
    "- Finally, changed the column name from `Contract Type` to `ContractTime`"
   ]
  },
  {
   "cell_type": "code",
   "execution_count": 14,
   "metadata": {},
   "outputs": [
    {
     "data": {
      "text/plain": [
       "Title                            0\n",
       "Company                          0\n",
       "Salary                           0\n",
       "Contract Type                  688\n",
       "Category                         0\n",
       "Closing                          0\n",
       "Location                         0\n",
       "Full-Time Equivalent (FTE)    4357\n",
       "Opening                          0\n",
       "dtype: int64"
      ]
     },
     "execution_count": 14,
     "metadata": {},
     "output_type": "execute_result"
    }
   ],
   "source": [
    "df2.isnull().sum()"
   ]
  },
  {
   "cell_type": "code",
   "execution_count": 15,
   "metadata": {},
   "outputs": [],
   "source": [
    "# Converting object into string date typ to find missing values\n",
    "df2['Contract Type'] = df2['Contract Type'].astype(str)"
   ]
  },
  {
   "cell_type": "code",
   "execution_count": 16,
   "metadata": {},
   "outputs": [],
   "source": [
    "df2['Contract Type'] = df2['Contract Type'].replace('nan','non-specified')\n",
    "df2['Contract Type'] = df2['Contract Type'].replace('Fixed Term Contract','contract')\n",
    "df2['Contract Type']  = df2['Contract Type'] .str.lower()"
   ]
  },
  {
   "cell_type": "code",
   "execution_count": 17,
   "metadata": {
    "scrolled": true
   },
   "outputs": [
    {
     "data": {
      "text/plain": [
       "permanent        3720\n",
       "non-specified     688\n",
       "contract          592\n",
       "Name: Contract Type, dtype: int64"
      ]
     },
     "execution_count": 17,
     "metadata": {},
     "output_type": "execute_result"
    }
   ],
   "source": [
    "df2['Contract Type'].value_counts()"
   ]
  },
  {
   "cell_type": "code",
   "execution_count": 18,
   "metadata": {},
   "outputs": [
    {
     "data": {
      "text/plain": [
       "permanent        3720\n",
       "non-specified     688\n",
       "contract          592\n",
       "Name: Contract Type, dtype: int64"
      ]
     },
     "execution_count": 18,
     "metadata": {},
     "output_type": "execute_result"
    }
   ],
   "source": [
    "df2['Contract Type'].value_counts()"
   ]
  },
  {
   "cell_type": "code",
   "execution_count": 19,
   "metadata": {},
   "outputs": [],
   "source": [
    "df2.rename(columns={'Contract Type': 'ContractTime'},inplace=True)"
   ]
  },
  {
   "cell_type": "markdown",
   "metadata": {},
   "source": [
    "#### Conflict 5: Naming Conflict/ Entity Resolution in Full-Time Equivalent (FTE) and ContractType\n"
   ]
  },
  {
   "cell_type": "markdown",
   "metadata": {},
   "source": [
    "`Full-Time Equivalent (FTE)` from D2 contains `FULL TIME` and `Fixed Term Contract` attributes which interpret `permanent` and `contract`in `ContractType` respectively from D1. This is a homonym case.\n",
    "- Checked for missing values, there appears to be **4357** missing vales.\n",
    "- First changed to the column name `Full-Time Equivalent (FTE)` to String data type to find missing values.\n",
    "- Changed missing values to `non-specified` and `0.2 FTE', '0.6 FTE','0.4 FTE','0.8 FTE` to `part_time` using replace func.\n",
    "- Changed Atribute names `FULL TIME` to `full_time`\n",
    "- Did value_counts to validate the change\n",
    "- Finally, chnaged the column name from `Full-Time Equivalent (FTE)` to `ContractTime` to avoid resolve conflict."
   ]
  },
  {
   "cell_type": "code",
   "execution_count": 20,
   "metadata": {},
   "outputs": [
    {
     "data": {
      "text/plain": [
       "Title                            0\n",
       "Company                          0\n",
       "Salary                           0\n",
       "ContractTime                     0\n",
       "Category                         0\n",
       "Closing                          0\n",
       "Location                         0\n",
       "Full-Time Equivalent (FTE)    4357\n",
       "Opening                          0\n",
       "dtype: int64"
      ]
     },
     "execution_count": 20,
     "metadata": {},
     "output_type": "execute_result"
    }
   ],
   "source": [
    "df2.isnull().sum()"
   ]
  },
  {
   "cell_type": "code",
   "execution_count": 21,
   "metadata": {},
   "outputs": [],
   "source": [
    "# Converting object into string date type to find missing values\n",
    "df2['Full-Time Equivalent (FTE)'] = df2['Full-Time Equivalent (FTE)'].astype(str)"
   ]
  },
  {
   "cell_type": "code",
   "execution_count": 22,
   "metadata": {
    "scrolled": true
   },
   "outputs": [
    {
     "data": {
      "text/plain": [
       "nan          4357\n",
       "FULL TIME     583\n",
       "0.2 FTE        16\n",
       "0.6 FTE        15\n",
       "0.4 FTE        15\n",
       "0.8 FTE        14\n",
       "Name: Full-Time Equivalent (FTE), dtype: int64"
      ]
     },
     "execution_count": 22,
     "metadata": {},
     "output_type": "execute_result"
    }
   ],
   "source": [
    "df2['Full-Time Equivalent (FTE)'].value_counts()"
   ]
  },
  {
   "cell_type": "code",
   "execution_count": 23,
   "metadata": {},
   "outputs": [],
   "source": [
    "df2['Full-Time Equivalent (FTE)'] = df2['Full-Time Equivalent (FTE)'].replace('nan','non-specified')"
   ]
  },
  {
   "cell_type": "code",
   "execution_count": 24,
   "metadata": {},
   "outputs": [
    {
     "data": {
      "text/plain": [
       "non-specified    4357\n",
       "FULL TIME         583\n",
       "0.2 FTE            16\n",
       "0.6 FTE            15\n",
       "0.4 FTE            15\n",
       "0.8 FTE            14\n",
       "Name: Full-Time Equivalent (FTE), dtype: int64"
      ]
     },
     "execution_count": 24,
     "metadata": {},
     "output_type": "execute_result"
    }
   ],
   "source": [
    "df2['Full-Time Equivalent (FTE)'].value_counts()"
   ]
  },
  {
   "cell_type": "code",
   "execution_count": 25,
   "metadata": {},
   "outputs": [],
   "source": [
    "df2['Full-Time Equivalent (FTE)'] = df2['Full-Time Equivalent (FTE)'].replace(['0.2 FTE', '0.6 FTE',\n",
    "                                                                             '0.4 FTE','0.8 FTE'],'part_time')"
   ]
  },
  {
   "cell_type": "code",
   "execution_count": 26,
   "metadata": {},
   "outputs": [],
   "source": [
    "df2['Full-Time Equivalent (FTE)'] = df2['Full-Time Equivalent (FTE)'].replace('FULL TIME','full_time')"
   ]
  },
  {
   "cell_type": "code",
   "execution_count": 27,
   "metadata": {},
   "outputs": [
    {
     "data": {
      "text/plain": [
       "non-specified    4357\n",
       "full_time         583\n",
       "part_time          60\n",
       "Name: Full-Time Equivalent (FTE), dtype: int64"
      ]
     },
     "execution_count": 27,
     "metadata": {},
     "output_type": "execute_result"
    }
   ],
   "source": [
    "df2['Full-Time Equivalent (FTE)'].value_counts()"
   ]
  },
  {
   "cell_type": "code",
   "execution_count": 28,
   "metadata": {},
   "outputs": [],
   "source": [
    "df2.rename(columns={'Full-Time Equivalent (FTE)': 'ContractType'},inplace=True)"
   ]
  },
  {
   "cell_type": "markdown",
   "metadata": {},
   "source": [
    "#### Conflict 6: Naming Conflict in Column Opening and OpenDate"
   ]
  },
  {
   "cell_type": "markdown",
   "metadata": {},
   "source": [
    "`Opening` from D2 corresponds to `OpenDate` from D1 but just different Attribute names.\n",
    "- Did value_counts to audit\n",
    "- Changed the date type to datetime format\n",
    "- Replaced the column name `Opening` to `OpenDate` to avoid conflict."
   ]
  },
  {
   "cell_type": "code",
   "execution_count": 29,
   "metadata": {},
   "outputs": [
    {
     "data": {
      "text/plain": [
       "2013-09-30 15:00:00    10\n",
       "2012-08-17 00:00:00     9\n",
       "2012-04-06 12:00:00     8\n",
       "2013-05-31 00:00:00     8\n",
       "2013-06-16 12:00:00     8\n",
       "                       ..\n",
       "2013-12-05 00:00:00     1\n",
       "2012-10-12 00:00:00     1\n",
       "2013-09-04 00:00:00     1\n",
       "2012-07-08 15:00:00     1\n",
       "2012-01-03 15:00:00     1\n",
       "Name: Opening, Length: 1969, dtype: int64"
      ]
     },
     "execution_count": 29,
     "metadata": {},
     "output_type": "execute_result"
    }
   ],
   "source": [
    "df2['Opening'].value_counts() # stored as an int object type"
   ]
  },
  {
   "cell_type": "code",
   "execution_count": 30,
   "metadata": {},
   "outputs": [],
   "source": [
    "df2['Opening'] = pd.to_datetime(df2['Opening'], format='%Y-%m-%d %H:%M:%S')"
   ]
  },
  {
   "cell_type": "code",
   "execution_count": 31,
   "metadata": {},
   "outputs": [],
   "source": [
    "df2.rename(columns={'Opening': 'OpenDate'},inplace=True)"
   ]
  },
  {
   "cell_type": "code",
   "execution_count": 32,
   "metadata": {},
   "outputs": [
    {
     "data": {
      "text/plain": [
       "2013-09-30 15:00:00    10\n",
       "2012-08-17 00:00:00     9\n",
       "2013-05-31 00:00:00     8\n",
       "2013-01-24 00:00:00     8\n",
       "2013-06-16 12:00:00     8\n",
       "                       ..\n",
       "2013-01-07 12:00:00     1\n",
       "2013-01-23 12:00:00     1\n",
       "2012-10-12 15:00:00     1\n",
       "2013-10-30 12:00:00     1\n",
       "2013-07-14 15:00:00     1\n",
       "Name: OpenDate, Length: 1969, dtype: int64"
      ]
     },
     "execution_count": 32,
     "metadata": {},
     "output_type": "execute_result"
    }
   ],
   "source": [
    "df2['OpenDate'].value_counts()"
   ]
  },
  {
   "cell_type": "code",
   "execution_count": 33,
   "metadata": {},
   "outputs": [
    {
     "data": {
      "text/plain": [
       "Title                   object\n",
       "Company                 object\n",
       "Salary                 float64\n",
       "ContractTime            object\n",
       "Category                object\n",
       "Closing                 object\n",
       "Location                object\n",
       "ContractType            object\n",
       "OpenDate        datetime64[ns]\n",
       "dtype: object"
      ]
     },
     "execution_count": 33,
     "metadata": {},
     "output_type": "execute_result"
    }
   ],
   "source": [
    "df2.dtypes"
   ]
  },
  {
   "cell_type": "markdown",
   "metadata": {},
   "source": [
    "#### Conflict 7: Naming Conflict in Column Closing and CloseDate"
   ]
  },
  {
   "cell_type": "markdown",
   "metadata": {},
   "source": [
    "`Closing` from D2 corresponds to `CloseDate` from D1 but just different Attribute names.\n",
    "- Did value_counts to audit\n",
    "- Changed the date type to datetime format\n",
    "- Replaced the column `Closing` name to `CloseDate` to avoid conflict."
   ]
  },
  {
   "cell_type": "code",
   "execution_count": 34,
   "metadata": {},
   "outputs": [
    {
     "data": {
      "text/plain": [
       "2013-12-25 12:00:00    8\n",
       "2012-05-23 15:00:00    8\n",
       "2013-06-02 15:00:00    8\n",
       "2013-06-26 00:00:00    8\n",
       "2013-08-15 12:00:00    8\n",
       "                      ..\n",
       "2012-02-26 00:00:00    1\n",
       "2013-03-03 00:00:00    1\n",
       "2012-11-26 12:00:00    1\n",
       "2013-12-07 15:00:00    1\n",
       "2013-09-26 12:00:00    1\n",
       "Name: Closing, Length: 2031, dtype: int64"
      ]
     },
     "execution_count": 34,
     "metadata": {},
     "output_type": "execute_result"
    }
   ],
   "source": [
    "df2['Closing'].value_counts() # stored as an int object type"
   ]
  },
  {
   "cell_type": "code",
   "execution_count": 35,
   "metadata": {},
   "outputs": [],
   "source": [
    "df2['Closing'] = pd.to_datetime(df2['Closing'], format='%Y-%m-%d %H:%M:%S')"
   ]
  },
  {
   "cell_type": "code",
   "execution_count": 36,
   "metadata": {},
   "outputs": [],
   "source": [
    "df2.rename(columns={'Closing': 'CloseDate'},inplace=True)"
   ]
  },
  {
   "cell_type": "code",
   "execution_count": 37,
   "metadata": {},
   "outputs": [
    {
     "data": {
      "text/plain": [
       "Title                   object\n",
       "Company                 object\n",
       "Salary                 float64\n",
       "ContractTime            object\n",
       "Category                object\n",
       "CloseDate       datetime64[ns]\n",
       "Location                object\n",
       "ContractType            object\n",
       "OpenDate        datetime64[ns]\n",
       "dtype: object"
      ]
     },
     "execution_count": 37,
     "metadata": {},
     "output_type": "execute_result"
    }
   ],
   "source": [
    "df2.dtypes"
   ]
  },
  {
   "cell_type": "markdown",
   "metadata": {},
   "source": [
    "### 3. Merging data\n",
    "\n",
    "<span style=\"color: red\"> You might have complex notebook structure in this section, please feel free to create your own notebook structure. </span>"
   ]
  },
  {
   "cell_type": "code",
   "execution_count": 38,
   "metadata": {},
   "outputs": [
    {
     "name": "stdout",
     "output_type": "stream",
     "text": [
      "<class 'pandas.core.frame.DataFrame'>\n",
      "RangeIndex: 48203 entries, 0 to 48202\n",
      "Data columns (total 11 columns):\n",
      " #   Column        Non-Null Count  Dtype  \n",
      "---  ------        --------------  -----  \n",
      " 0   Id            48203 non-null  int64  \n",
      " 1   Title         48203 non-null  object \n",
      " 2   Location      48203 non-null  object \n",
      " 3   Company       48203 non-null  object \n",
      " 4   ContractType  48203 non-null  object \n",
      " 5   ContractTime  48203 non-null  object \n",
      " 6   Category      48203 non-null  object \n",
      " 7   Salary        48203 non-null  float64\n",
      " 8   OpenDate      48203 non-null  object \n",
      " 9   CloseDate     48203 non-null  object \n",
      " 10  SourceName    48203 non-null  object \n",
      "dtypes: float64(1), int64(1), object(9)\n",
      "memory usage: 4.0+ MB\n",
      "None\n",
      "<class 'pandas.core.frame.DataFrame'>\n",
      "RangeIndex: 5000 entries, 0 to 4999\n",
      "Data columns (total 9 columns):\n",
      " #   Column        Non-Null Count  Dtype         \n",
      "---  ------        --------------  -----         \n",
      " 0   Title         5000 non-null   object        \n",
      " 1   Company       5000 non-null   object        \n",
      " 2   Salary        5000 non-null   float64       \n",
      " 3   ContractTime  5000 non-null   object        \n",
      " 4   Category      5000 non-null   object        \n",
      " 5   CloseDate     5000 non-null   datetime64[ns]\n",
      " 6   Location      5000 non-null   object        \n",
      " 7   ContractType  5000 non-null   object        \n",
      " 8   OpenDate      5000 non-null   datetime64[ns]\n",
      "dtypes: datetime64[ns](2), float64(1), object(6)\n",
      "memory usage: 351.7+ KB\n",
      "None\n"
     ]
    }
   ],
   "source": [
    "print (df1.info())\n",
    "print (df2.info())"
   ]
  },
  {
   "cell_type": "code",
   "execution_count": 39,
   "metadata": {
    "scrolled": true
   },
   "outputs": [
    {
     "name": "stdout",
     "output_type": "stream",
     "text": [
      "(53203, 11)\n"
     ]
    },
    {
     "data": {
      "text/html": [
       "<div>\n",
       "<style scoped>\n",
       "    .dataframe tbody tr th:only-of-type {\n",
       "        vertical-align: middle;\n",
       "    }\n",
       "\n",
       "    .dataframe tbody tr th {\n",
       "        vertical-align: top;\n",
       "    }\n",
       "\n",
       "    .dataframe thead th {\n",
       "        text-align: right;\n",
       "    }\n",
       "</style>\n",
       "<table border=\"1\" class=\"dataframe\">\n",
       "  <thead>\n",
       "    <tr style=\"text-align: right;\">\n",
       "      <th></th>\n",
       "      <th>Id</th>\n",
       "      <th>Title</th>\n",
       "      <th>Location</th>\n",
       "      <th>Company</th>\n",
       "      <th>ContractType</th>\n",
       "      <th>ContractTime</th>\n",
       "      <th>Category</th>\n",
       "      <th>Salary</th>\n",
       "      <th>OpenDate</th>\n",
       "      <th>CloseDate</th>\n",
       "      <th>SourceName</th>\n",
       "    </tr>\n",
       "  </thead>\n",
       "  <tbody>\n",
       "    <tr>\n",
       "      <th>20070</th>\n",
       "      <td>71564692.0</td>\n",
       "      <td>Business Analysts (SAP) x ****  Wiltshire</td>\n",
       "      <td>Wiltshire</td>\n",
       "      <td>Redrock Consulting Ltd</td>\n",
       "      <td>non-specified</td>\n",
       "      <td>permanent</td>\n",
       "      <td>IT Jobs</td>\n",
       "      <td>41500.0</td>\n",
       "      <td>2012-06-11 00:00:00</td>\n",
       "      <td>2012-08-10 00:00:00</td>\n",
       "      <td>cwjobs.co.uk</td>\n",
       "    </tr>\n",
       "    <tr>\n",
       "      <th>2212</th>\n",
       "      <td>69932205.0</td>\n",
       "      <td>Nursery Nurse  Finsbury Park</td>\n",
       "      <td>North London</td>\n",
       "      <td>Asquith Nurseries</td>\n",
       "      <td>non-specified</td>\n",
       "      <td>permanent</td>\n",
       "      <td>Teaching Jobs</td>\n",
       "      <td>15000.0</td>\n",
       "      <td>2013-06-02 00:00:00</td>\n",
       "      <td>2013-07-02 00:00:00</td>\n",
       "      <td>cv-library.co.uk</td>\n",
       "    </tr>\n",
       "    <tr>\n",
       "      <th>14536</th>\n",
       "      <td>68680940.0</td>\n",
       "      <td>Lead Strategy Director</td>\n",
       "      <td>South East London</td>\n",
       "      <td>PFJ</td>\n",
       "      <td>non-specified</td>\n",
       "      <td>permanent</td>\n",
       "      <td>IT Jobs</td>\n",
       "      <td>77500.0</td>\n",
       "      <td>2013-04-07 15:00:00</td>\n",
       "      <td>2013-06-06 15:00:00</td>\n",
       "      <td>totaljobs.com</td>\n",
       "    </tr>\n",
       "    <tr>\n",
       "      <th>46539</th>\n",
       "      <td>67392783.0</td>\n",
       "      <td>Assistant Manager  Birmingham</td>\n",
       "      <td>Birmingham</td>\n",
       "      <td>Sizzling Pubs</td>\n",
       "      <td>full_time</td>\n",
       "      <td>permanent</td>\n",
       "      <td>Hospitality &amp; Catering Jobs</td>\n",
       "      <td>18000.0</td>\n",
       "      <td>2013-08-31 15:00:00</td>\n",
       "      <td>2013-09-30 15:00:00</td>\n",
       "      <td>jobs.bighospitality.co.uk</td>\n",
       "    </tr>\n",
       "    <tr>\n",
       "      <th>5146</th>\n",
       "      <td>71294742.0</td>\n",
       "      <td>English Teacher urgently required in Fareham</td>\n",
       "      <td>Fareham</td>\n",
       "      <td>Alderwood Education</td>\n",
       "      <td>non-specified</td>\n",
       "      <td>contract</td>\n",
       "      <td>Teaching Jobs</td>\n",
       "      <td>30000.0</td>\n",
       "      <td>2012-04-27 12:00:00</td>\n",
       "      <td>2012-05-27 12:00:00</td>\n",
       "      <td>cv-library.co.uk</td>\n",
       "    </tr>\n",
       "    <tr>\n",
       "      <th>11623</th>\n",
       "      <td>71847845.0</td>\n",
       "      <td>Plumbing &amp; Heating Assessor</td>\n",
       "      <td>UK</td>\n",
       "      <td>Alpha Recruitment</td>\n",
       "      <td>non-specified</td>\n",
       "      <td>permanent</td>\n",
       "      <td>Teaching Jobs</td>\n",
       "      <td>39936.0</td>\n",
       "      <td>2012-09-24 12:00:00</td>\n",
       "      <td>2012-12-23 12:00:00</td>\n",
       "      <td>totaljobs.com</td>\n",
       "    </tr>\n",
       "    <tr>\n",
       "      <th>42973</th>\n",
       "      <td>67768161.0</td>\n",
       "      <td>COMPLIANCE EXECUTIVE – WHOLESALE EXPERIENCE RE...</td>\n",
       "      <td>London</td>\n",
       "      <td>Compliance Recruitment Solutions</td>\n",
       "      <td>non-specified</td>\n",
       "      <td>permanent</td>\n",
       "      <td>Accounting &amp; Finance Jobs</td>\n",
       "      <td>45000.0</td>\n",
       "      <td>2013-01-23 12:00:00</td>\n",
       "      <td>2013-02-22 12:00:00</td>\n",
       "      <td>jobsinrisk.com</td>\n",
       "    </tr>\n",
       "    <tr>\n",
       "      <th>35313</th>\n",
       "      <td>66596792.0</td>\n",
       "      <td>Head of Science</td>\n",
       "      <td>Swindon</td>\n",
       "      <td>non-specified</td>\n",
       "      <td>non-specified</td>\n",
       "      <td>permanent</td>\n",
       "      <td>Teaching Jobs</td>\n",
       "      <td>6696.0</td>\n",
       "      <td>2013-03-22 00:00:00</td>\n",
       "      <td>2013-05-21 00:00:00</td>\n",
       "      <td>hays.co.uk</td>\n",
       "    </tr>\n",
       "    <tr>\n",
       "      <th>19668</th>\n",
       "      <td>70783575.0</td>\n",
       "      <td>SQL DBA / Developer / SSIS / ETL / TSQL / SSRS...</td>\n",
       "      <td>Exeter</td>\n",
       "      <td>Opus Recruitment Solutions Ltd</td>\n",
       "      <td>non-specified</td>\n",
       "      <td>contract</td>\n",
       "      <td>IT Jobs</td>\n",
       "      <td>54000.0</td>\n",
       "      <td>2012-03-20 12:00:00</td>\n",
       "      <td>2012-05-19 12:00:00</td>\n",
       "      <td>cwjobs.co.uk</td>\n",
       "    </tr>\n",
       "    <tr>\n",
       "      <th>31466</th>\n",
       "      <td>70321231.0</td>\n",
       "      <td>Internal Sales Supervisor  Berkshire</td>\n",
       "      <td>UK</td>\n",
       "      <td>Additional Resources</td>\n",
       "      <td>full_time</td>\n",
       "      <td>permanent</td>\n",
       "      <td>Sales Jobs</td>\n",
       "      <td>35000.0</td>\n",
       "      <td>2013-05-19 00:00:00</td>\n",
       "      <td>2013-06-18 00:00:00</td>\n",
       "      <td>fish4.co.uk</td>\n",
       "    </tr>\n",
       "  </tbody>\n",
       "</table>\n",
       "</div>"
      ],
      "text/plain": [
       "               Id                                              Title  \\\n",
       "20070  71564692.0          Business Analysts (SAP) x ****  Wiltshire   \n",
       "2212   69932205.0                       Nursery Nurse  Finsbury Park   \n",
       "14536  68680940.0                             Lead Strategy Director   \n",
       "46539  67392783.0                      Assistant Manager  Birmingham   \n",
       "5146   71294742.0       English Teacher urgently required in Fareham   \n",
       "11623  71847845.0                        Plumbing & Heating Assessor   \n",
       "42973  67768161.0  COMPLIANCE EXECUTIVE – WHOLESALE EXPERIENCE RE...   \n",
       "35313  66596792.0                                    Head of Science   \n",
       "19668  70783575.0  SQL DBA / Developer / SSIS / ETL / TSQL / SSRS...   \n",
       "31466  70321231.0               Internal Sales Supervisor  Berkshire   \n",
       "\n",
       "                Location                           Company   ContractType  \\\n",
       "20070          Wiltshire            Redrock Consulting Ltd  non-specified   \n",
       "2212        North London                 Asquith Nurseries  non-specified   \n",
       "14536  South East London                               PFJ  non-specified   \n",
       "46539         Birmingham                     Sizzling Pubs      full_time   \n",
       "5146             Fareham               Alderwood Education  non-specified   \n",
       "11623                 UK                 Alpha Recruitment  non-specified   \n",
       "42973             London  Compliance Recruitment Solutions  non-specified   \n",
       "35313            Swindon                     non-specified  non-specified   \n",
       "19668             Exeter    Opus Recruitment Solutions Ltd  non-specified   \n",
       "31466                 UK              Additional Resources      full_time   \n",
       "\n",
       "      ContractTime                     Category   Salary             OpenDate  \\\n",
       "20070    permanent                      IT Jobs  41500.0  2012-06-11 00:00:00   \n",
       "2212     permanent                Teaching Jobs  15000.0  2013-06-02 00:00:00   \n",
       "14536    permanent                      IT Jobs  77500.0  2013-04-07 15:00:00   \n",
       "46539    permanent  Hospitality & Catering Jobs  18000.0  2013-08-31 15:00:00   \n",
       "5146      contract                Teaching Jobs  30000.0  2012-04-27 12:00:00   \n",
       "11623    permanent                Teaching Jobs  39936.0  2012-09-24 12:00:00   \n",
       "42973    permanent    Accounting & Finance Jobs  45000.0  2013-01-23 12:00:00   \n",
       "35313    permanent                Teaching Jobs   6696.0  2013-03-22 00:00:00   \n",
       "19668     contract                      IT Jobs  54000.0  2012-03-20 12:00:00   \n",
       "31466    permanent                   Sales Jobs  35000.0  2013-05-19 00:00:00   \n",
       "\n",
       "                 CloseDate                 SourceName  \n",
       "20070  2012-08-10 00:00:00               cwjobs.co.uk  \n",
       "2212   2013-07-02 00:00:00           cv-library.co.uk  \n",
       "14536  2013-06-06 15:00:00              totaljobs.com  \n",
       "46539  2013-09-30 15:00:00  jobs.bighospitality.co.uk  \n",
       "5146   2012-05-27 12:00:00           cv-library.co.uk  \n",
       "11623  2012-12-23 12:00:00              totaljobs.com  \n",
       "42973  2013-02-22 12:00:00             jobsinrisk.com  \n",
       "35313  2013-05-21 00:00:00                 hays.co.uk  \n",
       "19668  2012-05-19 12:00:00               cwjobs.co.uk  \n",
       "31466  2013-06-18 00:00:00                fish4.co.uk  "
      ]
     },
     "execution_count": 39,
     "metadata": {},
     "output_type": "execute_result"
    }
   ],
   "source": [
    "# Code to merge two data sets\n",
    "df = pd.concat([df1,df2])\n",
    "print (df.shape)\n",
    "df.sample(10)"
   ]
  },
  {
   "cell_type": "markdown",
   "metadata": {},
   "source": [
    "### 4. Resolving data conflicts:\n",
    "Give some general information about the data conflicts you found in the unified table and how you resolve them.\n",
    "\n",
    "<span style=\"color: red\"> You might have complex notebook structure in this section, please feel free to create your own notebook structure. </span>"
   ]
  },
  {
   "cell_type": "markdown",
   "metadata": {},
   "source": [
    "#### Conflict 1: Duplications\n",
    "Found 2 duplications after running 3 column that uniquely identify a job ad"
   ]
  },
  {
   "cell_type": "code",
   "execution_count": 40,
   "metadata": {},
   "outputs": [
    {
     "name": "stdout",
     "output_type": "stream",
     "text": [
      "There are 4 duplicate records found\n"
     ]
    },
    {
     "data": {
      "text/html": [
       "<div>\n",
       "<style scoped>\n",
       "    .dataframe tbody tr th:only-of-type {\n",
       "        vertical-align: middle;\n",
       "    }\n",
       "\n",
       "    .dataframe tbody tr th {\n",
       "        vertical-align: top;\n",
       "    }\n",
       "\n",
       "    .dataframe thead th {\n",
       "        text-align: right;\n",
       "    }\n",
       "</style>\n",
       "<table border=\"1\" class=\"dataframe\">\n",
       "  <thead>\n",
       "    <tr style=\"text-align: right;\">\n",
       "      <th></th>\n",
       "      <th>Id</th>\n",
       "      <th>Title</th>\n",
       "      <th>Location</th>\n",
       "      <th>Company</th>\n",
       "      <th>ContractType</th>\n",
       "      <th>ContractTime</th>\n",
       "      <th>Category</th>\n",
       "      <th>Salary</th>\n",
       "      <th>OpenDate</th>\n",
       "      <th>CloseDate</th>\n",
       "      <th>SourceName</th>\n",
       "    </tr>\n",
       "  </thead>\n",
       "  <tbody>\n",
       "    <tr>\n",
       "      <th>29913</th>\n",
       "      <td>69973212.0</td>\n",
       "      <td>Cabling Engineer</td>\n",
       "      <td>Slough</td>\n",
       "      <td>Ashdown Group</td>\n",
       "      <td>non-specified</td>\n",
       "      <td>permanent</td>\n",
       "      <td>Engineering Jobs</td>\n",
       "      <td>31000.0</td>\n",
       "      <td>2012-12-18 00:00:00</td>\n",
       "      <td>2013-01-17 00:00:00</td>\n",
       "      <td>tntjobs.co.uk</td>\n",
       "    </tr>\n",
       "    <tr>\n",
       "      <th>29983</th>\n",
       "      <td>71554967.0</td>\n",
       "      <td>Cabling Engineer</td>\n",
       "      <td>Slough</td>\n",
       "      <td>Ashdown Group</td>\n",
       "      <td>non-specified</td>\n",
       "      <td>permanent</td>\n",
       "      <td>Engineering Jobs</td>\n",
       "      <td>31000.0</td>\n",
       "      <td>2012-12-18 00:00:00</td>\n",
       "      <td>2013-01-17 00:00:00</td>\n",
       "      <td>tntjobs.co.uk</td>\n",
       "    </tr>\n",
       "    <tr>\n",
       "      <th>32367</th>\n",
       "      <td>67106442.0</td>\n",
       "      <td>Sales Consultant / Business Development</td>\n",
       "      <td>Bristol</td>\n",
       "      <td>non-specified</td>\n",
       "      <td>non-specified</td>\n",
       "      <td>permanent</td>\n",
       "      <td>Sales Jobs</td>\n",
       "      <td>27500.0</td>\n",
       "      <td>2012-07-29 00:00:00</td>\n",
       "      <td>2012-10-27 00:00:00</td>\n",
       "      <td>simplysalesjobs.co.uk</td>\n",
       "    </tr>\n",
       "    <tr>\n",
       "      <th>32403</th>\n",
       "      <td>71554943.0</td>\n",
       "      <td>Sales Consultant / Business Development</td>\n",
       "      <td>Bristol</td>\n",
       "      <td>non-specified</td>\n",
       "      <td>non-specified</td>\n",
       "      <td>permanent</td>\n",
       "      <td>Sales Jobs</td>\n",
       "      <td>27500.0</td>\n",
       "      <td>2012-07-29 00:00:00</td>\n",
       "      <td>2012-10-27 00:00:00</td>\n",
       "      <td>simplysalesjobs.co.uk</td>\n",
       "    </tr>\n",
       "  </tbody>\n",
       "</table>\n",
       "</div>"
      ],
      "text/plain": [
       "               Id                                    Title Location  \\\n",
       "29913  69973212.0                         Cabling Engineer   Slough   \n",
       "29983  71554967.0                         Cabling Engineer   Slough   \n",
       "32367  67106442.0  Sales Consultant / Business Development  Bristol   \n",
       "32403  71554943.0  Sales Consultant / Business Development  Bristol   \n",
       "\n",
       "             Company   ContractType ContractTime          Category   Salary  \\\n",
       "29913  Ashdown Group  non-specified    permanent  Engineering Jobs  31000.0   \n",
       "29983  Ashdown Group  non-specified    permanent  Engineering Jobs  31000.0   \n",
       "32367  non-specified  non-specified    permanent        Sales Jobs  27500.0   \n",
       "32403  non-specified  non-specified    permanent        Sales Jobs  27500.0   \n",
       "\n",
       "                  OpenDate            CloseDate             SourceName  \n",
       "29913  2012-12-18 00:00:00  2013-01-17 00:00:00          tntjobs.co.uk  \n",
       "29983  2012-12-18 00:00:00  2013-01-17 00:00:00          tntjobs.co.uk  \n",
       "32367  2012-07-29 00:00:00  2012-10-27 00:00:00  simplysalesjobs.co.uk  \n",
       "32403  2012-07-29 00:00:00  2012-10-27 00:00:00  simplysalesjobs.co.uk  "
      ]
     },
     "execution_count": 40,
     "metadata": {},
     "output_type": "execute_result"
    }
   ],
   "source": [
    "# check duplication\n",
    "cols = ['Title','Company','OpenDate'] # attributes should uniquely identify an Id.\n",
    "duplicates = df[df.duplicated(cols,keep=False)]\n",
    "print (\"There are \"+ str(len(duplicates)) + \" duplicate records found\")\n",
    "duplicates.sort_values(by=cols).head(10)"
   ]
  },
  {
   "cell_type": "markdown",
   "metadata": {},
   "source": [
    "Remove duplicates and keeping the last occurrences only"
   ]
  },
  {
   "cell_type": "code",
   "execution_count": 41,
   "metadata": {},
   "outputs": [
    {
     "data": {
      "text/plain": [
       "(53201, 11)"
      ]
     },
     "execution_count": 41,
     "metadata": {},
     "output_type": "execute_result"
    }
   ],
   "source": [
    "df = df.drop_duplicates(cols, keep='last')\n",
    "df.shape"
   ]
  },
  {
   "cell_type": "code",
   "execution_count": 42,
   "metadata": {},
   "outputs": [
    {
     "name": "stdout",
     "output_type": "stream",
     "text": [
      "There are 0 duplicate records found\n"
     ]
    },
    {
     "data": {
      "text/html": [
       "<div>\n",
       "<style scoped>\n",
       "    .dataframe tbody tr th:only-of-type {\n",
       "        vertical-align: middle;\n",
       "    }\n",
       "\n",
       "    .dataframe tbody tr th {\n",
       "        vertical-align: top;\n",
       "    }\n",
       "\n",
       "    .dataframe thead th {\n",
       "        text-align: right;\n",
       "    }\n",
       "</style>\n",
       "<table border=\"1\" class=\"dataframe\">\n",
       "  <thead>\n",
       "    <tr style=\"text-align: right;\">\n",
       "      <th></th>\n",
       "      <th>Id</th>\n",
       "      <th>Title</th>\n",
       "      <th>Location</th>\n",
       "      <th>Company</th>\n",
       "      <th>ContractType</th>\n",
       "      <th>ContractTime</th>\n",
       "      <th>Category</th>\n",
       "      <th>Salary</th>\n",
       "      <th>OpenDate</th>\n",
       "      <th>CloseDate</th>\n",
       "      <th>SourceName</th>\n",
       "    </tr>\n",
       "  </thead>\n",
       "  <tbody>\n",
       "  </tbody>\n",
       "</table>\n",
       "</div>"
      ],
      "text/plain": [
       "Empty DataFrame\n",
       "Columns: [Id, Title, Location, Company, ContractType, ContractTime, Category, Salary, OpenDate, CloseDate, SourceName]\n",
       "Index: []"
      ]
     },
     "execution_count": 42,
     "metadata": {},
     "output_type": "execute_result"
    }
   ],
   "source": [
    "# double-check duplication\n",
    "cols = ['Title','Company','OpenDate'] # attributes should uniquely identify an Id.\n",
    "duplicates = df[df.duplicated(cols,keep=False)]\n",
    "print (\"There are \"+ str(len(duplicates)) + \" duplicate records found\")\n",
    "duplicates.sort_values(by=cols).head(10)"
   ]
  },
  {
   "cell_type": "markdown",
   "metadata": {},
   "source": [
    "No duplicate records found."
   ]
  },
  {
   "cell_type": "code",
   "execution_count": 43,
   "metadata": {},
   "outputs": [],
   "source": [
    "#df1 = df1.reset_index()"
   ]
  },
  {
   "cell_type": "code",
   "execution_count": 44,
   "metadata": {},
   "outputs": [],
   "source": [
    "#df1 = df1.rename(columns={\"index\":\"Id\"})"
   ]
  },
  {
   "cell_type": "markdown",
   "metadata": {},
   "source": [
    "#### Finding global key for the data\n",
    "Find a proper global key for the integrated data and give justification here."
   ]
  },
  {
   "cell_type": "code",
   "execution_count": 45,
   "metadata": {},
   "outputs": [],
   "source": [
    "# Code to identify global key"
   ]
  },
  {
   "cell_type": "code",
   "execution_count": 46,
   "metadata": {},
   "outputs": [
    {
     "name": "stdout",
     "output_type": "stream",
     "text": [
      "Index(['Id', 'Title', 'Location', 'Company', 'ContractType', 'ContractTime',\n",
      "       'Category', 'Salary', 'OpenDate', 'CloseDate', 'SourceName'],\n",
      "      dtype='object')\n",
      "Index(['Title', 'Company', 'Salary', 'ContractTime', 'Category', 'CloseDate',\n",
      "       'Location', 'ContractType', 'OpenDate'],\n",
      "      dtype='object')\n"
     ]
    }
   ],
   "source": [
    "print(df1.keys())\n",
    "print(df2.keys())"
   ]
  },
  {
   "cell_type": "markdown",
   "metadata": {},
   "source": [
    "- `Id`- 8 digit Id of the job advertisement\n",
    "- `Title` - Title of the advertised job position\n",
    "- `Location` - Location of the advertised job position\n",
    "- `Company` - Company (employer) of the advertised job position\n",
    "- `ContractType` - The contract type of the advertised job position\n",
    "- `ContractTime` - The contract time of the advertised job position\n",
    "- `Category` - The category of the advertised job position\n",
    "- `Salary` - Annual salary of the advertised job position\n",
    "- `OpenDate`- The opening time for the job application\n",
    "- `CloseDate` - The closing time for applying for the advertised job position\n",
    "- `SourceName` - The website where the job position is advertised"
   ]
  },
  {
   "cell_type": "markdown",
   "metadata": {},
   "source": [
    "......."
   ]
  },
  {
   "cell_type": "markdown",
   "metadata": {},
   "source": [
    "### 5. Saving the integrated and reshaped data\n",
    "The last part of the integration process is to export our output data to csv format, named as:\n",
    "- '\\<student\\_id\\>_dataset_integrated.csv'"
   ]
  },
  {
   "cell_type": "code",
   "execution_count": 47,
   "metadata": {},
   "outputs": [],
   "source": [
    "df.to_csv(\"integrated.csv\",index = False)"
   ]
  }
 ],
 "metadata": {
  "kernelspec": {
   "display_name": "Python 3",
   "language": "python",
   "name": "python3"
  },
  "language_info": {
   "codemirror_mode": {
    "name": "ipython",
    "version": 3
   },
   "file_extension": ".py",
   "mimetype": "text/x-python",
   "name": "python",
   "nbconvert_exporter": "python",
   "pygments_lexer": "ipython3",
   "version": "3.7.6"
  }
 },
 "nbformat": 4,
 "nbformat_minor": 1
}
